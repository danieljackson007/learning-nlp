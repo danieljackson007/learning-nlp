{
  "nbformat": 4,
  "nbformat_minor": 0,
  "metadata": {
    "colab": {
      "provenance": [],
      "include_colab_link": true
    },
    "kernelspec": {
      "name": "python3",
      "display_name": "Python 3"
    },
    "language_info": {
      "name": "python"
    }
  },
  "cells": [
    {
      "cell_type": "markdown",
      "metadata": {
        "id": "view-in-github",
        "colab_type": "text"
      },
      "source": [
        "<a href=\"https://colab.research.google.com/github/danieljackson007/learning-nlp/blob/main/micrograd_exercises.ipynb\" target=\"_parent\"><img src=\"https://colab.research.google.com/assets/colab-badge.svg\" alt=\"Open In Colab\"/></a>"
      ]
    },
    {
      "cell_type": "markdown",
      "source": [
        "# micrograd exercises\n",
        "\n",
        "1. watch the [micrograd video](https://www.youtube.com/watch?v=VMj-3S1tku0) on YouTube\n",
        "2. come back and complete these exercises to level up :)\n",
        "\n",
        "credit to solutions: spolivin on github"
      ],
      "metadata": {
        "id": "JnGHatCI51JP"
      }
    },
    {
      "cell_type": "markdown",
      "source": [
        "## section 1: derivatives"
      ],
      "metadata": {
        "id": "OFt6NKOz6iBZ"
      }
    },
    {
      "cell_type": "code",
      "source": [
        "# here is a mathematical expression that takes 3 inputs and produces one output\n",
        "from math import sin, cos\n",
        "\n",
        "def f(a, b, c):\n",
        "  return -a**3 + sin(3*b) - 1.0/c + b**2.5 - a**0.5\n",
        "\n",
        "print(f(2, 3, 4))"
      ],
      "metadata": {
        "id": "3Jx9fCXl5xHd",
        "outputId": "1b7f0fa2-2186-43a1-e0d4-6eba0af8f4ba",
        "colab": {
          "base_uri": "https://localhost:8080/"
        }
      },
      "execution_count": 20,
      "outputs": [
        {
          "output_type": "stream",
          "name": "stdout",
          "text": [
            "6.336362190988558\n"
          ]
        }
      ]
    },
    {
      "cell_type": "markdown",
      "source": [
        "## Computing analytical gradient\n",
        "\n",
        "we need to compute the derivatives with respect to all parameters of the following function:\n",
        "\n",
        "$$f(a, b, c) = -a^{3} + sin(3b) - \\frac{1}{c} + b^{2.5} - a^{0.5}$$\n",
        "\n",
        "just use partial differentiation to calculate analytical gradients of $f$ as follows:\n",
        "\n",
        "$$\\frac{df}{da} = -3a^{2} - 0.5a^{-0.5}$$\n",
        "\n",
        "$$\\frac{df}{db} = 3 cos(3b) + 2.5b^{1.5}$$\n",
        "\n",
        "$$\\frac{df}{dc} = c^{-2}$$\n",
        "\n",
        "now we can use these formulas to compute all gradients required in code:"
      ],
      "metadata": {
        "id": "3x7OQh3w0x9H"
      }
    },
    {
      "cell_type": "code",
      "source": [
        "# write the function df that returns the analytical gradient of f\n",
        "# i.e. use your skills from calculus to take the derivative, then implement the formula\n",
        "# if you do not calculus then feel free to ask wolframalpha, e.g.:\n",
        "# https://www.wolframalpha.com/input?i=d%2Fda%28sin%283*a%29%29%29\n",
        "\n",
        "def gradf(a, b, c):\n",
        "  df_da = -3*a**2 - 0.5*a**-0.5\n",
        "  df_db = 3*cos(3*b) + 2.5*b**1.5\n",
        "  df_dc = c**-2\n",
        "  return [df_da, df_db, df_dc] # todo, return [df/da, df/db, df/dc]\n",
        "\n",
        "# expected answer is the list of\n",
        "ans = [-12.353553390593273, 10.25699027111255, 0.0625]\n",
        "yours = gradf(2, 3, 4)\n",
        "for dim in range(3):\n",
        "  ok = 'OK' if abs(yours[dim] - ans[dim]) < 1e-5 else 'WRONG!'\n",
        "  print(f\"{ok} for dim {dim}: expected {ans[dim]}, yours returns {yours[dim]}\")\n"
      ],
      "metadata": {
        "id": "qXaH59eL9zxf",
        "outputId": "dd9b0223-f51c-4936-c441-d0fada205916",
        "colab": {
          "base_uri": "https://localhost:8080/"
        }
      },
      "execution_count": 23,
      "outputs": [
        {
          "output_type": "stream",
          "name": "stdout",
          "text": [
            "OK for dim 0: expected -12.353553390593273, yours returns -12.353553390593273\n",
            "OK for dim 1: expected 10.25699027111255, yours returns 10.25699027111255\n",
            "OK for dim 2: expected 0.0625, yours returns 0.0625\n"
          ]
        }
      ]
    },
    {
      "cell_type": "markdown",
      "source": [
        "## Computing numerical gradient (Derivative definition)\n",
        "\n",
        "next task is to compute the gradient numerically by using the definition of the derivative:\n",
        "\n",
        "$$f'(a) = \\lim_{h \\rightarrow 0} \\frac{f(a + h) - f(a)}{h}$$\n",
        "\n",
        "this essentially means that by considering smaller and smaller values of $h$, we will get better and better approximations of the derivative at some point $a$."
      ],
      "metadata": {
        "id": "bMDbJ-KI1Udd"
      }
    },
    {
      "cell_type": "code",
      "source": [
        "# now estimate the gradient numerically without any calculus, using\n",
        "# the approximation we used in the video.\n",
        "# you should not call the function df from the last cell\n",
        "\n",
        "h = 1*10**-8\n",
        "\n",
        "a = 2; b = 3; c = 4\n",
        "\n",
        "df_da = (f(a + h, b, c) - f(a, b, c)) / h\n",
        "df_db = (f(a, b + h, c) - f(a, b, c)) / h\n",
        "df_dc = (f(a, b, c + h) - f(a, b, c)) / h\n",
        "\n",
        "# -----------\n",
        "numerical_grad = [df_da, df_db, df_dc] # TODO\n",
        "# -----------\n",
        "\n",
        "for dim in range(3):\n",
        "  ok = 'OK' if abs(numerical_grad[dim] - ans[dim]) < 1e-5 else 'WRONG!'\n",
        "  print(f\"{ok} for dim {dim}: expected {ans[dim]}, yours returns {numerical_grad[dim]}\")\n"
      ],
      "metadata": {
        "id": "_27n-KTA9Qla",
        "outputId": "712904e8-f550-4518-a527-00b6b1181ebe",
        "colab": {
          "base_uri": "https://localhost:8080/"
        }
      },
      "execution_count": 28,
      "outputs": [
        {
          "output_type": "stream",
          "name": "stdout",
          "text": [
            "OK for dim 0: expected -12.353553390593273, yours returns -12.353553380251014\n",
            "OK for dim 1: expected 10.25699027111255, yours returns 10.256990368162633\n",
            "OK for dim 2: expected 0.0625, yours returns 0.0624999607623522\n"
          ]
        }
      ]
    },
    {
      "cell_type": "markdown",
      "source": [
        "## section 2: support for softmax"
      ],
      "metadata": {
        "id": "tklF9s_4AtlI"
      }
    },
    {
      "cell_type": "code",
      "source": [
        "# Value class starter code, with many functions taken out\n",
        "from math import exp, log\n",
        "\n",
        "class Value:\n",
        "\n",
        "  def __init__(self, data, _children=(), _op='', label=''):\n",
        "    # put a docstring for good luck\n",
        "    '''initializes the object of Value class'''\n",
        "\n",
        "    # attribute for storing values\n",
        "    self.data = data\n",
        "\n",
        "    # attribute for storing gradients\n",
        "    self.grad = 0.0\n",
        "\n",
        "    # attribute for storing backprop function\n",
        "    self._backward = lambda: None\n",
        "\n",
        "    # attribute for storing children nodes in the computational graph\n",
        "    self._prev = set(_children)\n",
        "\n",
        "    # attribute for storing a label for the operation\n",
        "    self._op = _op\n",
        "\n",
        "    # attribute for storing a label of the Value instance\n",
        "    self.label = label\n",
        "\n",
        "  def __repr__(self):\n",
        "    '''retruns a string representation of the object'''\n",
        "    return f\"Value(data={self.data})\"\n",
        "\n",
        "  def __add__(self, other): # exactly as in the video\n",
        "    '''adds values of two instances together'''\n",
        "\n",
        "    # converts a number to Value object if it isn't \"value\" already\n",
        "    other = other if isinstance(other, Value) else Value(other)\n",
        "\n",
        "    # does the addition\n",
        "    out = Value(self.data + other.data, (self, other), '+')\n",
        "\n",
        "    # computes the gradient for the addition operation\n",
        "    def _backward():\n",
        "      self.grad += 1.0 * out.grad\n",
        "      other.grad += 1.0 * out.grad\n",
        "    out._backward = _backward\n",
        "\n",
        "    return out\n",
        "\n",
        "  # ------\n",
        "  # re-implement all the other functions needed for the exercises below\n",
        "  # your code here\n",
        "  # TODO\n",
        "  # ------\n",
        "\n",
        "  def __mul__(self, other):\n",
        "    '''multiplies values of two instances together'''\n",
        "\n",
        "    # converts a number to Value object if needed\n",
        "    other = other if isinstance(other, Value) else Value(other)\n",
        "\n",
        "    # does the multiplication\n",
        "    out = Value(self.data * other.data, (self, other), '*')\n",
        "\n",
        "    # computes gradients for the multiplication op\n",
        "    def _backward():\n",
        "      self.grad += other.data * out.grad\n",
        "      other.grad += self.data * out.grad\n",
        "    out._backward = _backward\n",
        "\n",
        "  def __rmul__(self, other):\n",
        "    return self * other\n",
        "\n",
        "  def __neg__(self):\n",
        "    return self * -1\n",
        "\n",
        "  def __pow__(self, other):\n",
        "    '''computes value of one instance to the power of another instance'''\n",
        "    # makes sure that the values supplied are integers or floats\n",
        "    assert isinstance(other, (int, float)), \"must be int or float\"\n",
        "\n",
        "    # power operation\n",
        "    out = Value(self.data ** other, (self,), f'**{other}') # don't fully understand this line\n",
        "\n",
        "    # computes gradient for power op\n",
        "    def _backward():\n",
        "      self.grad += other * (self.data ** (other - 1)) * out.grad # this is the power rule * out.grad for the chain rule\n",
        "    out._backward = _backward\n",
        "\n",
        "  def __div__(self, other):\n",
        "    return self * other**-1\n",
        "\n",
        "  def __sub__(self, other):\n",
        "    return self - other\n",
        "\n",
        "  def __rsub__(self, other): # reverse subtraction --> self.__rsub__(other) = other - self\n",
        "    return self - other\n",
        "\n",
        "  def exp(self):\n",
        "    '''does exponentiation'''\n",
        "    # exponent of the power op\n",
        "    x = self.data\n",
        "    out = Value(exp(x), (self, ), 'exp')\n",
        "\n",
        "    # compute gradient\n",
        "    def _backward():\n",
        "      self.grad += out.data * out.grad # the gradient is the result of the exponentiation itself bc d/dx(e^x) = e^x\n",
        "    out._backward = _backward\n",
        "\n",
        "    def log(self):\n",
        "      '''takes the natural log'''\n",
        "      # natural log op\n",
        "      x = self.data\n",
        "      out = Value(log(x), (self, ), 'log')\n",
        "      # compute gradient for the natural log op\n",
        "      def _backward():\n",
        "          self.grad += (1/x) * out.grad\n",
        "      out._backward = _backward\n",
        "      return out\n",
        "\n",
        "  def backward(self): # exactly as in video\n",
        "    topo = []\n",
        "    visited = set()\n",
        "    def build_topo(v):\n",
        "      if v not in visited:\n",
        "        visited.add(v)\n",
        "        for child in v._prev:\n",
        "          build_topo(child)\n",
        "        topo.append(v)\n",
        "    build_topo(self)\n",
        "\n",
        "    self.grad = 1.0\n",
        "    for node in reversed(topo):\n",
        "      node._backward()"
      ],
      "metadata": {
        "id": "nAPe_RVrCTeO"
      },
      "execution_count": 30,
      "outputs": []
    },
    {
      "cell_type": "code",
      "source": [],
      "metadata": {
        "id": "BHti9T2h9NKL"
      },
      "execution_count": null,
      "outputs": []
    }
  ]
}